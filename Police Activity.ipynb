{
 "cells": [
  {
   "cell_type": "markdown",
   "metadata": {},
   "source": [
    "# Police Activity in Nashville \n",
    "\n",
    "This analysis was made using the **'Stanford Open Policing Project'** dataset.\n",
    "\n",
    "This dataset records all the traffic stops made by policeman in the US. I decided to concentrate myself on the city of Nashville in the Tennessee. \n",
    "\n",
    "These kind of studies on police traffic stops are conducted in order to have more information on what influences a traffic stop to occur, and also on how we can improve exchange between civilians and officers of the law.\n",
    "\n",
    "***ps : I would like to say that all the interpretations of the data are only interpretations, and are not be considered as the exact truth***\n",
    "\n",
    "## Steps for our analysis :\n",
    "\n",
    "### 1 - Cleaning data 🧹\n",
    "### 2 - Exploring the relatioship between gender and policing ⚤\n",
    "### 3 - Visual Exploratory Data Analysis 📊\n",
    "### 4 - Analyzing the Ethnicity factor 👥\n",
    "\n",
    "![image1](image1.png)"
   ]
  },
  {
   "cell_type": "code",
   "execution_count": 143,
   "metadata": {},
   "outputs": [],
   "source": [
    "# Imports\n",
    "\n",
    "import pandas as pd\n",
    "import matplotlib.pyplot as plt\n",
    "plt.rcParams[\"figure.figsize\"] = (10,5)"
   ]
  },
  {
   "cell_type": "markdown",
   "metadata": {},
   "source": [
    "This is a **first look** of the data that we will be working with. the first row from the original data dates back from 2010 and goes until 2016.\n",
    "\n",
    "That's 3 092 351 rows to analyze only for one city in the states. Because my computer is not powerful enough, and it takes several minutes to get an output I will shrink our rows to 100 thousand instead of 3 million."
   ]
  },
  {
   "cell_type": "code",
   "execution_count": 144,
   "metadata": {},
   "outputs": [
    {
     "name": "stdout",
     "output_type": "stream",
     "text": [
      "  raw_row_number        date      time  \\\n",
      "0        1460036  2013-09-23  12:00:00   \n",
      "1        1459100  2013-09-23  13:20:00   \n",
      "2        1458397  2013-09-23  00:03:00   \n",
      "3        1459006  2013-09-23  12:03:00   \n",
      "4        1459011  2013-09-23  12:03:00   \n",
      "\n",
      "                                       location        lat        lng  \\\n",
      "0     MCGAVOCK PIKE & RIDGELAND DR, , TN, 37214  36.201040 -86.676890   \n",
      "1     1603 DICKERSON PIKE, NASHVILLE, TN, 37207  36.202776 -86.768792   \n",
      "2           6952 HWY 70 S, NASHVILLE, TN, 37221  36.077424 -86.913365   \n",
      "3  27TH AVE N & HERMAN ST, NASHVILLE, TN, 37208  36.161891 -86.817784   \n",
      "4          MM 204 0 I40 W, NASHVILLE, TN, 37209        NaN        NaN   \n",
      "\n",
      "  precinct  reporting_area zone  subject_age  ... raw_traffic_citation_issued  \\\n",
      "0        5          9315.0  515         63.0  ...                       False   \n",
      "1        2          1863.0  223         23.0  ...                        True   \n",
      "2      NaN             NaN  NaN         36.0  ...                       False   \n",
      "3        6          5309.0  615         33.0  ...                       False   \n",
      "4        1         45024.0  111         23.0  ...                        True   \n",
      "\n",
      "  raw_misd_state_citation_issued raw_suspect_ethnicity raw_driver_searched  \\\n",
      "0                          False                     N               False   \n",
      "1                           True                     N               False   \n",
      "2                          False                     N               False   \n",
      "3                          False                     N               False   \n",
      "4                          False                     N               False   \n",
      "\n",
      "  raw_passenger_searched raw_search_consent raw_search_arrest  \\\n",
      "0                  False              False             False   \n",
      "1                  False              False             False   \n",
      "2                  False              False             False   \n",
      "3                  False              False             False   \n",
      "4                  False              False             False   \n",
      "\n",
      "  raw_search_warrant raw_search_inventory raw_search_plain_view  \n",
      "0              False                False                 False  \n",
      "1              False                False                 False  \n",
      "2              False                False                 False  \n",
      "3              False                False                 False  \n",
      "4              False                False                 False  \n",
      "\n",
      "[5 rows x 42 columns]\n",
      "raw_row_number                     object\n",
      "date                               object\n",
      "time                               object\n",
      "location                           object\n",
      "lat                               float64\n",
      "lng                               float64\n",
      "precinct                           object\n",
      "reporting_area                    float64\n",
      "zone                               object\n",
      "subject_age                       float64\n",
      "subject_race                       object\n",
      "subject_sex                        object\n",
      "officer_id_hash                    object\n",
      "type                               object\n",
      "violation                          object\n",
      "arrest_made                        object\n",
      "citation_issued                    object\n",
      "warning_issued                     object\n",
      "outcome                            object\n",
      "contraband_found                   object\n",
      "contraband_drugs                   object\n",
      "contraband_weapons                 object\n",
      "frisk_performed                    object\n",
      "search_conducted                   object\n",
      "search_person                      object\n",
      "search_vehicle                     object\n",
      "search_basis                       object\n",
      "reason_for_stop                    object\n",
      "vehicle_registration_state         object\n",
      "notes                              object\n",
      "raw_verbal_warning_issued          object\n",
      "raw_written_warning_issued         object\n",
      "raw_traffic_citation_issued        object\n",
      "raw_misd_state_citation_issued     object\n",
      "raw_suspect_ethnicity              object\n",
      "raw_driver_searched                object\n",
      "raw_passenger_searched             object\n",
      "raw_search_consent                 object\n",
      "raw_search_arrest                  object\n",
      "raw_search_warrant                   bool\n",
      "raw_search_inventory                 bool\n",
      "raw_search_plain_view                bool\n",
      "dtype: object\n",
      "(100000, 42)\n"
     ]
    }
   ],
   "source": [
    "\n",
    "# Our file 'tn_nashville_2020_04_01.csv' will be converted into a dataframe\n",
    "nashville = pd.read_csv('tn_nashville_2020_04_01.csv', skiprows=range(1, 2992351),nrows=100000)\n",
    "\n",
    "# Verify the head of the dataframe\n",
    "print(nashville.head())\n",
    "print(nashville.dtypes)\n",
    "print(nashville.shape)\n"
   ]
  },
  {
   "cell_type": "markdown",
   "metadata": {},
   "source": [
    "# 1 - Cleaning our Data"
   ]
  },
  {
   "cell_type": "markdown",
   "metadata": {},
   "source": [
    "### 1-1 Fix Data types\n",
    "\n",
    "You can see that the majority of the data is in the type object which makes those attributes useless and unsuitable for analysis. That's why we are going to fix them, but only the one we'll need for the rest of our analysis."
   ]
  },
  {
   "cell_type": "code",
   "execution_count": 84,
   "metadata": {},
   "outputs": [
    {
     "name": "stdout",
     "output_type": "stream",
     "text": [
      "raw_row_number                            object\n",
      "date                              datetime64[ns]\n",
      "time                              datetime64[ns]\n",
      "location                                  object\n",
      "lat                                      float64\n",
      "lng                                      float64\n",
      "precinct                                  object\n",
      "reporting_area                           float64\n",
      "zone                                      object\n",
      "subject_age                              float64\n",
      "subject_race                              object\n",
      "subject_sex                               object\n",
      "officer_id_hash                           object\n",
      "type                                      object\n",
      "violation                                 object\n",
      "arrest_made                                 bool\n",
      "citation_issued                           object\n",
      "warning_issued                            object\n",
      "outcome                                   object\n",
      "contraband_found                          object\n",
      "contraband_drugs                            bool\n",
      "contraband_weapons                        object\n",
      "frisk_performed                           object\n",
      "search_conducted                            bool\n",
      "search_person                             object\n",
      "search_vehicle                            object\n",
      "search_basis                              object\n",
      "reason_for_stop                           object\n",
      "vehicle_registration_state                object\n",
      "notes                                     object\n",
      "raw_verbal_warning_issued                 object\n",
      "raw_written_warning_issued                object\n",
      "raw_traffic_citation_issued               object\n",
      "raw_misd_state_citation_issued            object\n",
      "raw_suspect_ethnicity                     object\n",
      "raw_driver_searched                       object\n",
      "raw_passenger_searched                    object\n",
      "raw_search_consent                        object\n",
      "raw_search_arrest                         object\n",
      "raw_search_warrant                          bool\n",
      "raw_search_inventory                        bool\n",
      "raw_search_plain_view                       bool\n",
      "stop_datetime                     datetime64[ns]\n",
      "dtype: object\n"
     ]
    }
   ],
   "source": [
    "# Change the data types \n",
    "\n",
    "# Concatenate 'date' and 'time' (separated by a space)\n",
    "combined = nashville.date.str.cat(nashville.time, sep=' ')\n",
    "nashville['stop_datetime'] = pd.to_datetime(combined)\n",
    "\n",
    "\n",
    "nashville['date'] = pd.to_datetime(nashville['date'])\n",
    "nashville['time'] = pd.to_datetime(nashville['time'])\n",
    "nashville['arrest_made'] = nashville.arrest_made.astype('bool')\n",
    "nashville['search_conducted'] = nashville.search_conducted.astype('bool')\n",
    "nashville['contraband_drugs'] = nashville.search_conducted.astype('bool')\n",
    "print(nashville.dtypes)"
   ]
  },
  {
   "cell_type": "markdown",
   "metadata": {},
   "source": [
    "### 1-2 Dropping rows with missing values\n",
    "\n",
    "Some rows have missing values... To spare us the burden let's drop all of these rows."
   ]
  },
  {
   "cell_type": "code",
   "execution_count": 63,
   "metadata": {},
   "outputs": [
    {
     "name": "stdout",
     "output_type": "stream",
     "text": [
      "raw_row_number                        0\n",
      "date                                  0\n",
      "time                                178\n",
      "location                              0\n",
      "lat                                6168\n",
      "lng                                6168\n",
      "precinct                          15784\n",
      "reporting_area                    13357\n",
      "zone                              15784\n",
      "subject_age                          24\n",
      "subject_race                         52\n",
      "subject_sex                          61\n",
      "officer_id_hash                       0\n",
      "type                                  0\n",
      "violation                           248\n",
      "arrest_made                           0\n",
      "citation_issued                       9\n",
      "warning_issued                        9\n",
      "outcome                              10\n",
      "contraband_found                  95954\n",
      "contraband_drugs                  95954\n",
      "contraband_weapons                95954\n",
      "frisk_performed                       1\n",
      "search_conducted                      0\n",
      "search_person                         3\n",
      "search_vehicle                        3\n",
      "search_basis                      95954\n",
      "reason_for_stop                     248\n",
      "vehicle_registration_state          148\n",
      "notes                             80886\n",
      "raw_verbal_warning_issued             9\n",
      "raw_written_warning_issued            1\n",
      "raw_traffic_citation_issued           9\n",
      "raw_misd_state_citation_issued    25448\n",
      "raw_suspect_ethnicity                 2\n",
      "raw_driver_searched                   1\n",
      "raw_passenger_searched                1\n",
      "raw_search_consent                    1\n",
      "raw_search_arrest                     2\n",
      "raw_search_warrant                    0\n",
      "raw_search_inventory                  0\n",
      "raw_search_plain_view                 0\n",
      "stop_datetime                       178\n",
      "dtype: int64\n",
      "raw_row_number                        0\n",
      "date                                  0\n",
      "time                                  0\n",
      "location                              0\n",
      "lat                                6144\n",
      "lng                                6144\n",
      "precinct                          15718\n",
      "reporting_area                    13304\n",
      "zone                              15718\n",
      "subject_age                           0\n",
      "subject_race                          0\n",
      "subject_sex                           0\n",
      "officer_id_hash                       0\n",
      "type                                  0\n",
      "violation                             0\n",
      "arrest_made                           0\n",
      "citation_issued                       9\n",
      "warning_issued                        9\n",
      "outcome                              10\n",
      "contraband_found                  95439\n",
      "contraband_drugs                  95439\n",
      "contraband_weapons                95439\n",
      "frisk_performed                       1\n",
      "search_conducted                      0\n",
      "search_person                         3\n",
      "search_vehicle                        3\n",
      "search_basis                      95439\n",
      "reason_for_stop                       0\n",
      "vehicle_registration_state          146\n",
      "notes                             80505\n",
      "raw_verbal_warning_issued             9\n",
      "raw_written_warning_issued            1\n",
      "raw_traffic_citation_issued           9\n",
      "raw_misd_state_citation_issued    25306\n",
      "raw_suspect_ethnicity                 0\n",
      "raw_driver_searched                   1\n",
      "raw_passenger_searched                1\n",
      "raw_search_consent                    1\n",
      "raw_search_arrest                     2\n",
      "raw_search_warrant                    0\n",
      "raw_search_inventory                  0\n",
      "raw_search_plain_view                 0\n",
      "stop_datetime                         0\n",
      "dtype: int64\n"
     ]
    }
   ],
   "source": [
    "# Search for the number of rows with missing values for each attribute\n",
    "print(nashville.isnull().sum())\n",
    "\n",
    "\n",
    "# Drop all rows that are missing the 'sex','age','race','time','violation' columns\n",
    "nashville.dropna(subset=['subject_age','subject_sex','subject_race','time','violation'], inplace=True)\n",
    "\n",
    "#  Count the number of missing values in each column (again)\n",
    "print(nashville.isnull().sum())"
   ]
  },
  {
   "cell_type": "markdown",
   "metadata": {},
   "source": [
    "### 1-3 Setting the index\n",
    "\n",
    "We are going to put the datetime attribute as the index of our dataframe."
   ]
  },
  {
   "cell_type": "code",
   "execution_count": 88,
   "metadata": {},
   "outputs": [
    {
     "name": "stdout",
     "output_type": "stream",
     "text": [
      "DatetimeIndex(['2013-09-23 12:00:00', '2013-09-23 13:20:00',\n",
      "               '2013-09-23 00:03:00', '2013-09-23 12:03:00',\n",
      "               '2013-09-23 12:03:00', '2013-09-23 12:05:00',\n",
      "               '2013-09-23 12:05:00', '2013-09-23 12:05:00',\n",
      "               '2013-09-23 00:06:00', '2013-09-23 00:07:00',\n",
      "               ...\n",
      "               '2016-09-09 09:54:00', '2016-09-09 09:54:00',\n",
      "               '2016-09-09 09:54:00', '2016-09-09 09:54:00',\n",
      "               '2016-09-09 09:54:00', '2016-09-09 09:54:00',\n",
      "               '2016-09-09 21:54:00', '2016-09-09 21:55:00',\n",
      "               '2016-09-09 09:56:00', '2016-09-09 09:56:00'],\n",
      "              dtype='datetime64[ns]', name='stop_datetime', length=100000, freq=None)\n",
      "Index(['raw_row_number', 'date', 'time', 'location', 'lat', 'lng', 'precinct',\n",
      "       'reporting_area', 'zone', 'subject_age', 'subject_race', 'subject_sex',\n",
      "       'officer_id_hash', 'type', 'violation', 'arrest_made',\n",
      "       'citation_issued', 'warning_issued', 'outcome', 'contraband_found',\n",
      "       'contraband_drugs', 'contraband_weapons', 'frisk_performed',\n",
      "       'search_conducted', 'search_person', 'search_vehicle', 'search_basis',\n",
      "       'reason_for_stop', 'vehicle_registration_state', 'notes',\n",
      "       'raw_verbal_warning_issued', 'raw_written_warning_issued',\n",
      "       'raw_traffic_citation_issued', 'raw_misd_state_citation_issued',\n",
      "       'raw_suspect_ethnicity', 'raw_driver_searched',\n",
      "       'raw_passenger_searched', 'raw_search_consent', 'raw_search_arrest',\n",
      "       'raw_search_warrant', 'raw_search_inventory', 'raw_search_plain_view'],\n",
      "      dtype='object')\n"
     ]
    }
   ],
   "source": [
    "# Set 'stop_datetime' as the index\n",
    "nashville.set_index('stop_datetime', inplace=True)\n",
    "\n",
    "# Examine the index\n",
    "print(nashville.index)\n",
    "\n",
    "# Examine the columns\n",
    "print(nashville.columns)"
   ]
  },
  {
   "cell_type": "markdown",
   "metadata": {},
   "source": [
    "# 2 - Exploring the relationship between gender and policing ⚤\n",
    "\n",
    "Now that our data is clean it's time to do some analysis. Let's concentrate on the gender attribute on this section."
   ]
  },
  {
   "cell_type": "markdown",
   "metadata": {},
   "source": [
    "### 2-1 Examining traffic violations\n",
    "\n",
    "Before comparing the violations being committed by each gender, we should examine the violations committed by all drivers to get a baseline understanding of the data."
   ]
  },
  {
   "cell_type": "code",
   "execution_count": 65,
   "metadata": {},
   "outputs": [
    {
     "name": "stdout",
     "output_type": "stream",
     "text": [
      "moving traffic violation       50953\n",
      "vehicle equipment violation    31867\n",
      "registration                    5614\n",
      "safety violation                5570\n",
      "seatbelt violation              3307\n",
      "investigative stop              1875\n",
      "parking violation                214\n",
      "child restraint                   43\n",
      "Name: violation, dtype: int64\n",
      "moving traffic violation       0.512384\n",
      "vehicle equipment violation    0.320455\n",
      "registration                   0.056454\n",
      "safety violation               0.056012\n",
      "seatbelt violation             0.033255\n",
      "investigative stop             0.018855\n",
      "parking violation              0.002152\n",
      "child restraint                0.000432\n",
      "Name: violation, dtype: float64\n"
     ]
    }
   ],
   "source": [
    "# Count the unique values in 'violation'\n",
    "print(nashville.violation.value_counts())\n",
    "\n",
    "# Express the counts as proportions\n",
    "print(nashville.violation.value_counts(normalize=True))"
   ]
  },
  {
   "cell_type": "markdown",
   "metadata": {},
   "source": [
    "We can see that for the majority of traffic stops occuring, the reason associated is **traffic violation**, which is not really surprising amongst drivers."
   ]
  },
  {
   "cell_type": "markdown",
   "metadata": {},
   "source": [
    "### 2-2 Comparing violations by gender\n",
    "\n",
    "The question we're trying to answer is whether male and female drivers tend to commit different types of traffic violations.\n"
   ]
  },
  {
   "cell_type": "code",
   "execution_count": 66,
   "metadata": {},
   "outputs": [
    {
     "name": "stdout",
     "output_type": "stream",
     "text": [
      "Female : \n",
      "moving traffic violation       0.518182\n",
      "vehicle equipment violation    0.323104\n",
      "registration                   0.057160\n",
      "safety violation               0.056862\n",
      "seatbelt violation             0.025556\n",
      "investigative stop             0.016236\n",
      "parking violation              0.002280\n",
      "child restraint                0.000620\n",
      "Name: violation, dtype: float64\n",
      "Male : \n",
      "moving traffic violation       0.508426\n",
      "vehicle equipment violation    0.318646\n",
      "registration                   0.055973\n",
      "safety violation               0.055431\n",
      "seatbelt violation             0.038511\n",
      "investigative stop             0.020643\n",
      "parking violation              0.002064\n",
      "child restraint                0.000305\n",
      "Name: violation, dtype: float64\n"
     ]
    }
   ],
   "source": [
    "\n",
    "\n",
    "# Create a DataFrame of female drivers\n",
    "female = nashville[nashville.subject_sex=='female']\n",
    "\n",
    "# Create a DataFrame of male drivers\n",
    "male = nashville[nashville.subject_sex=='male']\n",
    "\n",
    "# Compute the violations by female drivers (as proportions)\n",
    "print('Female : ')\n",
    "print(female.violation.value_counts(normalize='True'))\n",
    "\n",
    "print('Male : ')\n",
    "# Compute the violations by male drivers (as proportions)\n",
    "print(male.violation.value_counts(normalize='True'))"
   ]
  },
  {
   "cell_type": "markdown",
   "metadata": {},
   "source": [
    "### 2-3 Comparing speeding outcomes by gender\n",
    "\n",
    "When a driver is pulled over for speeding, many people believe that gender has an impact on whether the driver will receive a ticket or a warning. "
   ]
  },
  {
   "cell_type": "code",
   "execution_count": 67,
   "metadata": {},
   "outputs": [
    {
     "name": "stdout",
     "output_type": "stream",
     "text": [
      "Female : \n",
      "warning     0.673892\n",
      "citation    0.316107\n",
      "arrest      0.010001\n",
      "Name: outcome, dtype: float64\n",
      "Male : \n",
      "warning     0.667011\n",
      "citation    0.313686\n",
      "arrest      0.019304\n",
      "Name: outcome, dtype: float64\n"
     ]
    }
   ],
   "source": [
    "# Create a DataFrame of female drivers stopped for speeding\n",
    "female_and_speeding = nashville[(nashville.subject_sex=='female') & (nashville.violation =='moving traffic violation')]\n",
    "\n",
    "# Create a DataFrame of male drivers stopped for speeding\n",
    "male_and_speeding = nashville[(nashville.subject_sex=='male') & (nashville.violation =='moving traffic violation')]\n",
    "\n",
    "print('Female : ')\n",
    "# Compute the stop outcomes for female drivers (as proportions)\n",
    "print(female_and_speeding.outcome.value_counts(normalize='True'))\n",
    "print('Male : ')\n",
    "# Compute the stop outcomes for male drivers (as proportions)\n",
    "print(male_and_speeding.outcome.value_counts(normalize='True'))"
   ]
  },
  {
   "cell_type": "markdown",
   "metadata": {},
   "source": [
    "They are both pretty similar. However you can see that a slight majority of male got arrested, and female have slightier chances of only recieving a warning and not being arrested."
   ]
  },
  {
   "cell_type": "markdown",
   "metadata": {},
   "source": [
    "### 2-4 Calculating the search rate\n",
    "\n",
    "During a traffic stop, the police officer sometimes conducts a search of the vehicle. the percentage of all stops that result in a vehicle search, is known as the search rate"
   ]
  },
  {
   "cell_type": "code",
   "execution_count": 68,
   "metadata": {},
   "outputs": [
    {
     "name": "stdout",
     "output_type": "stream",
     "text": [
      "bool\n",
      "False    0.959706\n",
      "True     0.040294\n",
      "Name: search_conducted, dtype: float64\n",
      "0.04029444003097252\n"
     ]
    }
   ],
   "source": [
    "# Check the data type of 'search_conducted'\n",
    "print(nashville.search_conducted.dtype)\n",
    "\n",
    "# Calculate the search rate by counting the values\n",
    "print(nashville.search_conducted.value_counts(normalize=\"True\"))\n",
    "\n",
    "# Calculate the search rate by taking the mean\n",
    "print(nashville.search_conducted.mean())"
   ]
  },
  {
   "cell_type": "markdown",
   "metadata": {},
   "source": [
    "You have arround 4% chance for your vehicule to get the search after committing a violation in Nashville from 2013 to 2020"
   ]
  },
  {
   "cell_type": "markdown",
   "metadata": {},
   "source": [
    "### 2-5 Comparing search rates by gender"
   ]
  },
  {
   "cell_type": "markdown",
   "metadata": {},
   "source": [
    "We compare the rates at which female and male drivers are searched during a traffic stop. Remember that the vehicle search rate across all stops is about 4%."
   ]
  },
  {
   "cell_type": "code",
   "execution_count": 69,
   "metadata": {},
   "outputs": [
    {
     "name": "stdout",
     "output_type": "stream",
     "text": [
      "female :  0.023225838435416306\n",
      "male :  0.05194585448392555\n"
     ]
    }
   ],
   "source": [
    "# Calculate the search rate for female drivers\n",
    "print('female : ',nashville[nashville.subject_sex=='female'].search_conducted.mean())\n",
    "\n",
    "# Calculate the search rate for male drivers\n",
    "print('male : ', nashville[nashville.subject_sex=='male'].search_conducted.mean())"
   ]
  },
  {
   "cell_type": "markdown",
   "metadata": {},
   "source": [
    "It seems that searches mostly happens to man rather than females."
   ]
  },
  {
   "cell_type": "markdown",
   "metadata": {},
   "source": [
    "### 2-6 Adding a second factor to the analysis\n",
    "\n",
    "Even though the search rate for males is much higher than for females, it's possible that the difference is mostly due to a second factor.\n",
    "\n",
    "For example, you might hypothesize that the search rate varies by violation type, and the difference in search rate between males and females is because they tend to commit different violations.\n",
    "\n",
    "You can test this hypothesis by examining the search rate for each combination of gender and violation. If the hypothesis was true, you would find that males and females are searched at about the same rate for each violation. "
   ]
  },
  {
   "cell_type": "code",
   "execution_count": 70,
   "metadata": {},
   "outputs": [
    {
     "name": "stdout",
     "output_type": "stream",
     "text": [
      "subject_sex  violation                  \n",
      "female       child restraint                0.000000\n",
      "             investigative stop             0.090076\n",
      "             moving traffic violation       0.020282\n",
      "             parking violation              0.010870\n",
      "             registration                   0.022984\n",
      "             safety violation               0.022668\n",
      "             seatbelt violation             0.031038\n",
      "             vehicle equipment violation    0.024242\n",
      "male         child restraint                0.111111\n",
      "             investigative stop             0.172131\n",
      "             moving traffic violation       0.047657\n",
      "             parking violation              0.057377\n",
      "             registration                   0.054111\n",
      "             safety violation               0.043346\n",
      "             seatbelt violation             0.057118\n",
      "             vehicle equipment violation    0.051402\n",
      "Name: search_conducted, dtype: float64\n"
     ]
    }
   ],
   "source": [
    "# Calculate the search rate for each combination of gender and violation\n",
    "print(nashville.groupby(['subject_sex', 'violation']).search_conducted.mean())"
   ]
  },
  {
   "cell_type": "code",
   "execution_count": 71,
   "metadata": {},
   "outputs": [
    {
     "name": "stdout",
     "output_type": "stream",
     "text": [
      "violation                    subject_sex\n",
      "child restraint              female         0.000000\n",
      "                             male           0.111111\n",
      "investigative stop           female         0.090076\n",
      "                             male           0.172131\n",
      "moving traffic violation     female         0.020282\n",
      "                             male           0.047657\n",
      "parking violation            female         0.010870\n",
      "                             male           0.057377\n",
      "registration                 female         0.022984\n",
      "                             male           0.054111\n",
      "safety violation             female         0.022668\n",
      "                             male           0.043346\n",
      "seatbelt violation           female         0.031038\n",
      "                             male           0.057118\n",
      "vehicle equipment violation  female         0.024242\n",
      "                             male           0.051402\n",
      "Name: search_conducted, dtype: float64\n"
     ]
    }
   ],
   "source": [
    "# Reverse the ordering to group by violation before gender\n",
    "print(nashville.groupby(['violation','subject_sex']).search_conducted.mean())"
   ]
  },
  {
   "cell_type": "markdown",
   "metadata": {},
   "source": [
    "I like the second groupby better than the first, but that's only a matter of taste.\n",
    "\n",
    "So we can see that both gender don't get in the same type of violations, and males get searched only because they do violations that requires a car to be searched like \"vehicle equipement violation\" for example.\n",
    "\n",
    "It shows us that we should always add a second factor to our analysis."
   ]
  },
  {
   "cell_type": "markdown",
   "metadata": {},
   "source": [
    "# 3 Visual exploratory data analysis\n",
    "\n",
    "### 3-1 Calculating the hourly arrest rate\n",
    "\n",
    "When a police officer stops a driver, a small percentage of those stops ends in an arrest. This is known as the arrest rate. we'll find out whether the arrest rate varies by time of day.\n",
    "\n",
    "First, we'll calculate the arrest rate across all stops. Then, we'll calculate the hourly arrest rate by using the `hour` attribute of the index. The `hour` ranges from 0 to 23."
   ]
  },
  {
   "cell_type": "code",
   "execution_count": 77,
   "metadata": {},
   "outputs": [
    {
     "name": "stdout",
     "output_type": "stream",
     "text": [
      "0.016341019478495217\n",
      "stop_datetime\n",
      "0     0.022165\n",
      "1     0.035370\n",
      "2     0.044923\n",
      "3     0.043216\n",
      "4     0.037586\n",
      "5     0.014419\n",
      "6     0.021327\n",
      "7     0.006821\n",
      "8     0.006191\n",
      "9     0.010729\n",
      "10    0.008670\n",
      "11    0.011040\n",
      "12    0.010993\n",
      "13    0.009009\n",
      "14    0.015595\n",
      "15    0.010567\n",
      "16    0.010853\n",
      "17    0.014742\n",
      "18    0.014043\n",
      "19    0.011582\n",
      "20    0.016787\n",
      "21    0.019929\n",
      "22    0.022334\n",
      "23    0.018955\n",
      "Name: arrest_made, dtype: float64\n"
     ]
    }
   ],
   "source": [
    "# Calculate the overall arrest rate\n",
    "print(nashville['arrest_made'].mean())\n",
    "\n",
    "# Calculate the hourly arrest rate\n",
    "print(nashville.groupby(nashville.index.hour).arrest_made.mean())\n",
    "\n",
    "# Save the hourly arrest rate\n",
    "hourly_arrest_rate = nashville.groupby(nashville.index.hour).arrest_made.mean()"
   ]
  },
  {
   "cell_type": "markdown",
   "metadata": {},
   "source": [
    "### 3-2 Plotting the hourly arrest rate\n",
    "\n",
    "We'll create a line plot from the `hourly_arrest_rate` object. A line plot is appropriate in this case because you're showing how a quantity changes over time.\n",
    "\n",
    "This plot should help us to spot some trends that may not have been obvious when examining the raw numbers!"
   ]
  },
  {
   "cell_type": "code",
   "execution_count": 95,
   "metadata": {},
   "outputs": [
    {
     "data": {
      "image/png": "[encoded data removed]",
      "text/plain": [
       "<Figure size 720x360 with 1 Axes>"
      ]
     },
     "metadata": {
      "needs_background": "light"
     },
     "output_type": "display_data"
    }
   ],
   "source": [
    "# Create a line plot of 'hourly_arrest_rate'\n",
    "hourly_arrest_rate.plot()\n",
    "\n",
    "# Add the xlabel, ylabel, and title\n",
    "plt.xlabel('Hour')\n",
    "plt.ylabel('Arrest Rate')\n",
    "plt.title('Arrest Rate by Time of Day')\n",
    "\n",
    "# Display the plot\n",
    "plt.show()"
   ]
  },
  {
   "cell_type": "markdown",
   "metadata": {},
   "source": [
    "Most of all the traffic stops that occured in Nashville from 2013 to 2016 happened during the night from 0 to 5."
   ]
  },
  {
   "cell_type": "markdown",
   "metadata": {},
   "source": [
    "### 3-3 Plotting drug-related stops\n",
    "\n",
    "In a small portion of traffic stops, drugs are found in the vehicle during a search. In this exercise, you'll assess whether these drug-related stops are becoming more common over time.\n",
    "\n",
    "The Boolean column `drugs_related_stop` indicates whether drugs were found during a given stop. We'll calculate the annual drug rate by resampling this column, and then you'll use a line plot to visualize how the rate has changed over time."
   ]
  },
  {
   "cell_type": "code",
   "execution_count": 96,
   "metadata": {},
   "outputs": [
    {
     "name": "stdout",
     "output_type": "stream",
     "text": [
      "stop_datetime\n",
      "2010-12-31    0.043729\n",
      "2011-12-31    0.044140\n",
      "2012-12-31    0.040166\n",
      "2013-12-31    0.043921\n",
      "2014-12-31    0.038204\n",
      "2015-12-31    0.037337\n",
      "2016-12-31    0.034822\n",
      "Name: contraband_drugs, dtype: float64\n"
     ]
    },
    {
     "data": {
      "image/png": "[encoded data removed]",
      "text/plain": [
       "<Figure size 720x360 with 1 Axes>"
      ]
     },
     "metadata": {
      "needs_background": "light"
     },
     "output_type": "display_data"
    }
   ],
   "source": [
    "\n",
    "# Calculate the annual rate of drug-related stops\n",
    "print(nashville.contraband_drugs.resample('A').mean())\n",
    "\n",
    "# Save the annual rate of drug-related stops\n",
    "annual_drug_rate = nashville.contraband_drugs.resample('A').mean()\n",
    "\n",
    "# Create a line plot of 'annual_drug_rate'\n",
    "annual_drug_rate.plot()\n",
    "\n",
    "# Display the plot\n",
    "plt.show()"
   ]
  },
  {
   "cell_type": "markdown",
   "metadata": {},
   "source": [
    "There are less and less traffic stops for drug contreband in nashville, as we can see the rate decreasing throughout the years."
   ]
  },
  {
   "cell_type": "markdown",
   "metadata": {},
   "source": [
    "### 3-4 Comparing drug and search rates\n",
    "\n",
    "As we saw in the last graph, the rate of drug-related stops decreased significantly between 2010 and 2016. We might hypothesize that the rate of vehicle searches was also decreasing, which would have led to an decrease in drug-related stops even if more drivers were not carrying drugs.\n",
    "\n",
    "We can test this hypothesis by calculating the annual search rate, and then plotting it against the annual drug rate. If the hypothesis is true, then we'll see both rates decreasing over time."
   ]
  },
  {
   "cell_type": "code",
   "execution_count": 99,
   "metadata": {},
   "outputs": [
    {
     "data": {
      "image/png": "[encoded data removed]",
      "text/plain": [
       "<Figure size 720x360 with 2 Axes>"
      ]
     },
     "metadata": {
      "needs_background": "light"
     },
     "output_type": "display_data"
    }
   ],
   "source": [
    "# Calculate and save the annual search rate\n",
    "annual_search_rate = nashville.search_conducted.resample('A').mean()\n",
    "\n",
    "# Concatenate 'annual_drug_rate' and 'annual_search_rate'\n",
    "annual = pd.concat([annual_drug_rate,annual_search_rate], axis='columns')\n",
    "\n",
    "# Create subplots from 'annual'\n",
    "annual.plot(subplots=True)\n",
    "\n",
    "# Display the subplots\n",
    "plt.show()\n"
   ]
  },
  {
   "cell_type": "markdown",
   "metadata": {},
   "source": [
    "As we can see both plotes are decreasing meaning that all the search conducted were related to drug contreband."
   ]
  },
  {
   "cell_type": "markdown",
   "metadata": {},
   "source": [
    "# 4 - Analyzing ethnicity factor\n",
    "\n",
    "### 4-1 Count the number of traffic stops for each ethnicity \n",
    "Before we can do any operation on our data it is important to do first of all a preview of the data that we are going to use. "
   ]
  },
  {
   "cell_type": "code",
   "execution_count": 100,
   "metadata": {},
   "outputs": [
    {
     "name": "stdout",
     "output_type": "stream",
     "text": [
      "white                     54528\n",
      "black                     37090\n",
      "hispanic                   5299\n",
      "asian/pacific islander     1383\n",
      "unknown                    1292\n",
      "other                       356\n",
      "Name: subject_race, dtype: int64\n",
      "white                     0.545564\n",
      "black                     0.371093\n",
      "hispanic                  0.053018\n",
      "asian/pacific islander    0.013837\n",
      "unknown                   0.012927\n",
      "other                     0.003562\n",
      "Name: subject_race, dtype: float64\n"
     ]
    }
   ],
   "source": [
    "# Count the unique values in 'violation'\n",
    "print(nashville.subject_race.value_counts())\n",
    "\n",
    "# Express the counts as proportions\n",
    "print(nashville.subject_race.value_counts(normalize=True))"
   ]
  },
  {
   "cell_type": "markdown",
   "metadata": {},
   "source": [
    "We can see in Nashville that half of the people stopped were caucasians during the period that we are analyzing."
   ]
  },
  {
   "cell_type": "markdown",
   "metadata": {},
   "source": [
    "### 4-2 Comparing violations type and ethinicity"
   ]
  },
  {
   "cell_type": "code",
   "execution_count": 109,
   "metadata": {},
   "outputs": [
    {
     "name": "stdout",
     "output_type": "stream",
     "text": [
      "violation               child restraint  investigative stop  \\\n",
      "subject_race                                                  \n",
      "asian/pacific islander                1                  20   \n",
      "black                                24                 821   \n",
      "hispanic                              1                 147   \n",
      "other                                 0                   4   \n",
      "unknown                               0                  24   \n",
      "white                                17                 867   \n",
      "\n",
      "violation               moving traffic violation  parking violation  \\\n",
      "subject_race                                                          \n",
      "asian/pacific islander                       799                  0   \n",
      "black                                      17404                 98   \n",
      "hispanic                                    2610                  6   \n",
      "other                                        182                  1   \n",
      "unknown                                      726                 32   \n",
      "white                                      29344                106   \n",
      "\n",
      "violation               registration  safety violation  seatbelt violation  \\\n",
      "subject_race                                                                 \n",
      "asian/pacific islander            69                95                  30   \n",
      "black                           2183              2323                1299   \n",
      "hispanic                         265               365                 157   \n",
      "other                              8                14                  11   \n",
      "unknown                           63                74                  39   \n",
      "white                           3041              2707                1774   \n",
      "\n",
      "violation               vehicle equipment violation  \n",
      "subject_race                                         \n",
      "asian/pacific islander                          368  \n",
      "black                                         12821  \n",
      "hispanic                                       1742  \n",
      "other                                           135  \n",
      "unknown                                         330  \n",
      "white                                         16555  \n"
     ]
    },
    {
     "data": {
      "image/png": "[encoded data removed]",
      "text/plain": [
       "<Figure size 1440x720 with 1 Axes>"
      ]
     },
     "metadata": {
      "needs_background": "light"
     },
     "output_type": "display_data"
    }
   ],
   "source": [
    "# Create a frequency table of races and violations\n",
    "print(pd.crosstab(nashville.subject_race,nashville.violation))\n",
    "plt.rcParams[\"figure.figsize\"] = (20,10)\n",
    "# Save the table in a variable, then plot the histogram\n",
    "race_violation = pd.crosstab(nashville.subject_race,nashville.violation)\n",
    "\n",
    "race_violation.plot(kind='barh', stacked=True)\n",
    "\n",
    "plt.show()"
   ]
  },
  {
   "cell_type": "markdown",
   "metadata": {},
   "source": [
    "We can see that 'Moving traffic violation', and 'vehicle equipment violation' is the most common type of violation, and that white and black committed the most of these violations."
   ]
  },
  {
   "cell_type": "markdown",
   "metadata": {},
   "source": [
    "### 4-3 Analyze arrests rate between ethinicity\n",
    "\n",
    "Now that we know which are the violations that each ethinicity commits, we can question ourselves on the traffic stops that resulted in an arrest."
   ]
  },
  {
   "cell_type": "code",
   "execution_count": 153,
   "metadata": {},
   "outputs": [
    {
     "name": "stdout",
     "output_type": "stream",
     "text": [
      "white :\n",
      "warning     0.761272\n",
      "citation    0.227631\n",
      "arrest      0.011097\n",
      "Name: outcome, dtype: float64\n",
      "black :\n",
      "warning     0.775142\n",
      "citation    0.201995\n",
      "arrest      0.022863\n",
      "Name: outcome, dtype: float64\n",
      "hispanic :\n",
      "warning     0.612002\n",
      "citation    0.353840\n",
      "arrest      0.034157\n",
      "Name: outcome, dtype: float64\n",
      "asian_pacific :\n",
      "warning     0.801880\n",
      "citation    0.193059\n",
      "arrest      0.005061\n",
      "Name: outcome, dtype: float64\n",
      "other :\n",
      "warning     0.671348\n",
      "citation    0.308989\n",
      "arrest      0.019663\n",
      "Name: outcome, dtype: float64\n",
      "unknown :\n",
      "warning     0.710526\n",
      "citation    0.284056\n",
      "arrest      0.005418\n",
      "Name: outcome, dtype: float64\n"
     ]
    }
   ],
   "source": [
    "# Create a DataFrame of drivers stopped for speeding\n",
    "driver_speeding = nashville[nashville.violation =='moving traffic violation']\n",
    "white = nashville[nashville.subject_race == 'white']\n",
    "black = nashville[nashville.subject_race == 'black']\n",
    "hispanic = nashville[nashville.subject_race == 'hispanic']\n",
    "asian_pacific = nashville[nashville.subject_race == 'asian/pacific islander']\n",
    "other = nashville[nashville.subject_race == 'other']\n",
    "unknown = nashville[nashville.subject_race == 'unknown']\n",
    "\n",
    "print('white :')\n",
    "print(white.outcome.value_counts(normalize='True'))\n",
    "print('black :')\n",
    "print(black.outcome.value_counts(normalize='True'))\n",
    "print('hispanic :') \n",
    "print(hispanic.outcome.value_counts(normalize='True'))\n",
    "print('asian_pacific :')\n",
    "print(asian_pacific.outcome.value_counts(normalize='True'))\n",
    "print('other :')\n",
    "print(other.outcome.value_counts(normalize='True'))\n",
    "print('unknown :')\n",
    "print(unknown.outcome.value_counts(normalize='True'))\n"
   ]
  },
  {
   "cell_type": "markdown",
   "metadata": {},
   "source": [
    "As we can see hispanic and black people have more chance to be arrested after a speeding violation."
   ]
  },
  {
   "cell_type": "code",
   "execution_count": null,
   "metadata": {},
   "outputs": [],
   "source": []
  }
 ],
 "metadata": {
  "kernelspec": {
   "display_name": "Python 3",
   "language": "python",
   "name": "python3"
  },
  "language_info": {
   "codemirror_mode": {
    "name": "ipython",
    "version": 3
   },
   "file_extension": ".py",
   "mimetype": "text/x-python",
   "name": "python",
   "nbconvert_exporter": "python",
   "pygments_lexer": "ipython3",
   "version": "3.7.3"
  }
 },
 "nbformat": 4,
 "nbformat_minor": 2
}
